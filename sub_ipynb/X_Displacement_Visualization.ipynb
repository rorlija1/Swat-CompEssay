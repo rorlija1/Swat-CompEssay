{
 "cells": [
  {
   "cell_type": "code",
   "execution_count": 2,
   "id": "4ec7c412-2bcc-4051-9fd8-21f521d3c4b6",
   "metadata": {},
   "outputs": [],
   "source": [
    "# Import the dependencies\n",
    "import numpy as np\n",
    "import matplotlib.pyplot as plt\n",
    "import matplotlib.cm as cm\n",
    "\n",
    "# ML Intro\n",
    "from sklearn.model_selection import train_test_split\n",
    "from sklearn.ensemble import RandomForestRegressor\n",
    "from sklearn.linear_model import LinearRegression\n",
    "from sklearn.neural_network import MLPRegressor\n",
    "from sklearn.metrics import mean_squared_error\n",
    "import time\n",
    "\n",
    "# GNN\n",
    "import numpy as np\n",
    "import matplotlib.pyplot as plt\n",
    "import torch\n",
    "import random\n",
    "import os\n",
    "import shutil\n",
    "from torch_geometric.data import Data\n",
    "from torch_geometric.loader import DataLoader\n",
    "import torch.nn as nn\n",
    "import torch.optim as optim\n",
    "from random import shuffle\n",
    "from torch_scatter import scatter_add\n",
    "from torch.optim.lr_scheduler import ExponentialLR, MultiStepLR, ReduceLROnPlateau\n",
    "\n",
    "# visualization\n",
    "import networkx as nx\n",
    "from torch_geometric.utils import to_networkx\n",
    "import re\n",
    "import cv2\n",
    "from IPython.display import Video"
   ]
  },
  {
   "cell_type": "markdown",
   "id": "4b7c000b-a3fd-45d6-8b4c-74021da9dc13",
   "metadata": {},
   "source": [
    "### Displacement in a system of sheared grains"
   ]
  },
  {
   "cell_type": "markdown",
   "id": "033c411d-955f-45b3-8061-b1b0517206e6",
   "metadata": {},
   "source": [
    "The particles in the system begin at rest, and as the system is sheared, the 'information' of the shearing displacement percolates from the moving walls up and down through the system.\n",
    "\n",
    "To predict the displacement of our system, we need to understand the target and its complexities. Let's first create some visualizations of our data to study its characteristics. For times at which the information has completely penetrated the system, we might expect the particles to displace in an affine manner. (Note: this is because there are no pins in the configurations which we are studying here. If we were to introduce pins, we'd see some non-affine displacements.)\n",
    "\n",
    "The figure below from Amin Danesh (Bucknell) illustrates the nature of this affine displacement as a function of y-coordinate in the simmulation."
   ]
  },
  {
   "cell_type": "markdown",
   "id": "acf220a0-caf0-42b2-8d93-16a4ca3b0a98",
   "metadata": {},
   "source": [
    "![Affine displacements courtesy of Amin](../images/affine_displacement.png)"
   ]
  },
  {
   "cell_type": "markdown",
   "id": "bd361ef1-08e6-4400-a5e8-0d5928273254",
   "metadata": {},
   "source": [
    "We'll use the LAMMPS dump files in the $\\texttt{MD\\_Data}$ directory to create our visualizations.\n",
    "\n",
    "First we define functions for file IO and data accumulation:"
   ]
  },
  {
   "cell_type": "code",
   "execution_count": 7,
   "id": "86491f31-1607-48d7-b8f0-6fd51b92f16c",
   "metadata": {},
   "outputs": [],
   "source": [
    "def get_filename_for_timestep(timestep, folder='.'):\n",
    "    \"\"\"\n",
    "    Returns the filename in `folder` corresponding to the timestep.\n",
    "    Looks for files matching pattern 'confdump*MD<timestep>.data'.\n",
    "    \"\"\"\n",
    "    pattern = re.compile(r'confdump.*MD' + str(timestep) + r'\\.data')\n",
    "    for filename in os.listdir(folder):\n",
    "        if pattern.match(filename):\n",
    "            return os.path.join(folder, filename)\n",
    "    raise FileNotFoundError(f\"No file found for timestep {timestep}\")"
   ]
  },
  {
   "cell_type": "code",
   "execution_count": 8,
   "id": "5025be0f-4a6f-490f-9f2b-e9a19bbf4dfd",
   "metadata": {},
   "outputs": [],
   "source": [
    "def read_simulation_metadata(filename):\n",
    "    with open(filename, 'r') as f:\n",
    "        lines = [next(f) for _ in range(8)]\n",
    "    Nall = int(lines[3].split()[0])\n",
    "    Lx = float(lines[5].split()[1])\n",
    "    Ly = float(lines[6].split()[1])\n",
    "    return Nall, Lx, Ly\n",
    "\n",
    "def load_particle_data(filename):\n",
    "    header = np.loadtxt(filename, skiprows=8, max_rows=1, dtype=str)\n",
    "    header[4:6] = ['dx', 'dy']  # Rename columns\n",
    "    data = np.loadtxt(filename, skiprows=9, usecols=range(17), unpack=True)\n",
    "    return header, data\n",
    "\n",
    "def read_wall_particles(filename):\n",
    "    with open(filename, 'r') as f:\n",
    "        lines = [next(f) for _ in range(8)]\n",
    "    Nwall = int(lines[3].split()[0])\n",
    "    data = np.loadtxt(filename, skiprows=9, usecols=(0, 1), unpack=True)\n",
    "    return Nwall, data\n",
    "\n",
    "def extract_wall_indices(idarrayall, idarraywall):\n",
    "    \"\"\"Returns boolean mask or indices for wall particles.\"\"\"\n",
    "    return np.isin(idarrayall, idarraywall)\n",
    "\n",
    "def data_func(tMD, t_0, folder = '../MD_Data', unwrapped_coords = True):\n",
    "    \"\"\"Processes simulation and wall data to extract displacement and other arrays.\"\"\"\n",
    "    file_wall = os.path.join(folder, \"wallpartidtype\")\n",
    "    file_init = get_filename_for_timestep(t_0, folder)\n",
    "    file_final = get_filename_for_timestep(tMD, folder)\n",
    "    coords = \"unwrapped\" if unwrapped_coords else \"wrapped\"\n",
    "    print(f\"Loading data from final time: {file_final}\")\n",
    "    print(f\"Loading data from init time: {file_init}\")\n",
    "    print(f\"in {coords} coordinates!\")\n",
    "\n",
    "    Nall, Lx, Ly = read_simulation_metadata(file_final)\n",
    "\n",
    "    Nall_init, Lx_init, Ly_init = read_simulation_metadata(file_init)\n",
    "    \n",
    "    if Nall != Nall_init:\n",
    "        raise Exception('MD system configuration at final time step does not match initial time step.')\n",
    "\n",
    "    # Read wall data\n",
    "    Nwall, wall_data = read_wall_particles(file_wall)\n",
    "    idarraywall, typearraywall = wall_data\n",
    "    Nmid = Nall - Nwall\n",
    "\n",
    "    # Load particle data\n",
    "    header, data_final = load_particle_data(file_final)\n",
    "    _, data_init = load_particle_data(file_init)\n",
    "\n",
    "    # use unwrapped coords (fields 8,9) rather than periodic ones (fields 2,3)\n",
    "    idarrayall = data_final[0]\n",
    "    typearrayall = data_final[1]\n",
    "    if unwrapped_coords:\n",
    "        x_unwrapped_all, yarrayall = data_final[8], data_final[9]\n",
    "    else:\n",
    "        x_unwrapped_all, yarrayall = data_final[2], data_final[3]\n",
    "    vxarrayall, vyarrayall = data_final[4], data_final[5]\n",
    "    fxarrayall, fyarrayall = data_final[6], data_final[7]\n",
    "    # skip columns 9-16 if unused\n",
    "\n",
    "    if unwrapped_coords:\n",
    "        x_unwrapped_all_init, yarrayall_init = data_init[8], data_init[9]\n",
    "    else:\n",
    "        x_unwrapped_all_init, yarrayall_init = data_init[2], data_init[3]\n",
    "    vxarrayall_init, vyarrayall_init = data_init[4], data_init[5]\n",
    "\n",
    "    dxarrayall = x_unwrapped_all - x_unwrapped_all_init\n",
    "    dyarrayall = yarrayall - yarrayall_init\n",
    "\n",
    "    # Get wall indices\n",
    "    wall_mask = extract_wall_indices(idarrayall, idarraywall)\n",
    "\n",
    "    # Extract mid particles (inverse mask)\n",
    "    mid_mask = ~wall_mask\n",
    "    idarraymid = idarrayall[mid_mask].astype(int)\n",
    "    typearraymid = typearrayall[mid_mask].astype(int)\n",
    "    xarraymid = x_unwrapped_all[mid_mask]\n",
    "    yarraymid = yarrayall[mid_mask]\n",
    "    xarraymid_init = x_unwrapped_all_init[mid_mask]\n",
    "    yarraymid_init = yarrayall_init[mid_mask]\n",
    "    dxarraymid = xarraymid - xarraymid_init\n",
    "    dyarraymid = yarraymid - yarraymid_init\n",
    "    vxarraymid = vxarrayall[mid_mask]\n",
    "    vyarraymid = vyarrayall[mid_mask]\n",
    "    fxarraymid = fxarrayall[mid_mask]\n",
    "    fyarraymid = fyarrayall[mid_mask]\n",
    "    # sigxyarraymid = sigxyarrayall[mid_mask]\n",
    "\n",
    "    # Extract wall coordinates\n",
    "    wall_indices = np.searchsorted(idarrayall, idarraywall)\n",
    "    xarraywall = x_unwrapped_all[wall_indices]\n",
    "    yarraywall = yarrayall[wall_indices]\n",
    "    xarraywall_init = x_unwrapped_all_init[wall_indices]\n",
    "    yarraywall_init = yarrayall_init[wall_indices]\n",
    "\n",
    "    # Count mid region types\n",
    "    Namid = np.sum(typearraymid == 1)\n",
    "    Nbmid = np.sum(typearraymid == 2)\n",
    "    Npinmid = np.sum(typearraymid == 3)\n",
    "\n",
    "    return (header[2:8], idarrayall, typearrayall, dxarrayall, dyarrayall,\n",
    "            vxarrayall, vyarrayall, xarraymid, yarraymid, xarraywall, yarraywall,\n",
    "            dxarraymid, dyarraymid, typearraywall.astype(int), typearraymid.astype(int),\n",
    "            Nmid, Nwall, Lx, Ly)"
   ]
  },
  {
   "cell_type": "markdown",
   "id": "3503ca31-f867-46d9-8f4a-01ed80096469",
   "metadata": {},
   "source": [
    "Now we can plot histograms as well as visualizations of the system at various time steps."
   ]
  },
  {
   "cell_type": "code",
   "execution_count": 10,
   "id": "67210d98-c50e-4b57-badc-78bb6fa66d27",
   "metadata": {},
   "outputs": [],
   "source": [
    "def plot_displacement_histograms(x_displacements, y_displacements, types, tMD, t_0):\n",
    "    \"\"\"Plots histograms for displacement data.\"\"\"\n",
    "\n",
    "    def _plot_and_save(x, y, net, label):\n",
    "        fig, axes = plt.subplots(1, 3, figsize=(15, 5))\n",
    "        for ax, data, title, color in zip(\n",
    "            axes,\n",
    "            [x, y, net],\n",
    "            ['X Displacement', 'Y Displacement', 'Net Displacement'],\n",
    "            ['blue', 'green', 'red']\n",
    "        ):\n",
    "            counts, bins, patches = ax.hist(data, bins=50, color=color, alpha=0.7, edgecolor='black')\n",
    "            patch_heights = counts / counts.sum()\n",
    "            for patch, height in zip(patches, patch_heights):\n",
    "                patch.set_height(height)\n",
    "            ax.set_title(title)\n",
    "            ax.set_xlabel(\"Displacement\")\n",
    "            ax.set_ylabel(\"Fraction of Total\")\n",
    "            ax.set_ylim(0, 1)\n",
    "        fig.suptitle(f\"Displacements at {tMD} timesteps from {t_0}\", fontsize=16)\n",
    "        plt.tight_layout(rect=[0, 0, 1, 0.95])\n",
    "        plt.savefig(f\"../images/plots_fromcode/disp_hist_{label}_{tMD}.png\")\n",
    "        plt.close()\n",
    "\n",
    "    net_displacements = np.hypot(x_displacements, y_displacements)\n",
    "\n",
    "    _plot_and_save(x_displacements, y_displacements, net_displacements, 'ALL')\n",
    "    for ttype, label in [(1.0, 'A'), (2.0, 'B')]:\n",
    "        mask = types == ttype\n",
    "        _plot_and_save(x_displacements[mask], y_displacements[mask], net_displacements[mask], label)\n",
    "\n",
    "def displacement_heatmap(xmid_unwrapped, ymid_unwrapped, xwall_unwrapped, ywall_unwrapped, dxmid_unwrapped, dymid_unwrapped, xmid_wrapped, ymid_wrapped, xwall_wrapped, ywall_wrapped, dxmid_wrapped, dymid_wrapped, typewall, typemid, t, t_0, Nmid, Nwall, Lx, Ly):\n",
    "    \"\"\"\n",
    "    Plots displacement heatmaps.\n",
    "    NOTE: we differentiate between wrapped and unwrapped here\n",
    "    because it is nice to visualize the positions of atoms in\n",
    "    wrapped coordinates (ie, they won't leave the box area),\n",
    "    but we must calculate the actual displacements with the unwrapped ones!\n",
    "                         \n",
    "    \"\"\"\n",
    "    Ra, Rb, Rpindraw = 1.0, 1.4, 0.4\n",
    "    net_disp = np.hypot(dxmid_unwrapped, dymid_unwrapped)\n",
    "    displacements = {'NET': net_disp, 'X': np.abs(dxmid_unwrapped), 'Y': np.abs(dymid_unwrapped)}\n",
    "\n",
    "    for label, disp in displacements.items():\n",
    "        disp_norm = (disp - disp.min()) / (disp.ptp() if disp.ptp() > 0 else 1)\n",
    "        colormaps = {1: cm.Reds, 2: cm.Blues}  # ← colormap functions, not arrays\n",
    "\n",
    "        fig, ax = plt.subplots()\n",
    "        for i in range(Nmid):\n",
    "            r = Ra if typemid[i] == 1 else Rb if typemid[i] == 2 else Rpindraw\n",
    "            if typemid[i] in colormaps:\n",
    "                color = colormaps[typemid[i]](disp_norm[i])\n",
    "            else:\n",
    "                color = cm.Greys(disp_norm[i])\n",
    "            ax.add_patch(plt.Circle((xmid_wrapped[i], ymid_wrapped[i]), r, color=color))\n",
    "\n",
    "        for i in range(Nwall):\n",
    "            r = Ra if typewall[i] == 1 else Rb\n",
    "            ax.add_patch(plt.Circle((xwall_wrapped[i], ywall_wrapped[i]), r, fc='yellow', ec='yellow'))\n",
    "\n",
    "        ax.set_xlim(0, Lx)\n",
    "        ax.set_ylim(0, Ly)\n",
    "        ax.set_aspect('equal', adjustable='box')\n",
    "        ax.set_title(f\"Displacements at {t} timesteps from {t_0}_{label}\")\n",
    "        plt.savefig(f\"../images/plots_fromcode/disp_MD_{t}_{label}.png\")\n",
    "        plt.close()"
   ]
  },
  {
   "cell_type": "code",
   "execution_count": 21,
   "id": "bcbff79d-db68-482e-8bb9-ce14082b0711",
   "metadata": {},
   "outputs": [
    {
     "name": "stdout",
     "output_type": "stream",
     "text": [
      "What data would you like to visualize?\n",
      "\n",
      "Dump files contained in this file environment:\n",
      ".     - Start at MD0, goes in increments of 5000\n",
      ".       up to 200000.\n",
      ".     - Then goes from 41100000 to\n",
      ".       41595000 in increments of 5000.\n",
      ".     - Then goes in increments of 5000 from\n",
      ".       MD42000000 to 42500000.\n",
      ".     - Also includes 2000, 10000000, 10100000,\n",
      ".       20000000, 30000000, 55900000.\n",
      "Would you like to manually input time steps to visualize?\n"
     ]
    },
    {
     "name": "stdin",
     "output_type": "stream",
     "text": [
      "Yes (1) or No (2):  2\n"
     ]
    },
    {
     "name": "stdout",
     "output_type": "stream",
     "text": [
      "Selecting default time steps to visualize:\n",
      "0, 50000, 150000, 200000, 10000000, 20000000, 41100000\n"
     ]
    }
   ],
   "source": [
    "print(\"What data would you like to visualize?\")\n",
    "print()\n",
    "print(\"Dump files contained in this file environment:\")\n",
    "print(\".     - Start at MD0, goes in increments of 5000\")\n",
    "print(\".       up to 200000.\")\n",
    "time.sleep(0.5)\n",
    "print(\".     - Then goes from 41100000 to\")\n",
    "print(\".       41595000 in increments of 5000.\")\n",
    "time.sleep(0.5)\n",
    "print(\".     - Then goes in increments of 5000 from\")\n",
    "print(\".       MD42000000 to 42500000.\")\n",
    "time.sleep(0.5)\n",
    "print(\".     - Also includes 2000, 10000000, 10100000,\")\n",
    "print(\".       20000000, 30000000, 55900000.\")\n",
    "time.sleep(1.5)\n",
    "\n",
    "print(\"Would you like to manually input time steps to visualize?\")\n",
    "time.sleep(0.5)\n",
    "manual = int(input(\"Yes (1) or No (2): \"))\n",
    "\n",
    "if manual == 1:\n",
    "    dt = int(input(\"select time interval between sampled files: \"))\n",
    "    t_0 = int(input(\"select inital time: \"))\n",
    "    t_f = int(input(\"select final time: \"))\n",
    "    num_files = int((t_f - t_0) / dt)\n",
    "    tMD_arr = np.linspace(t_0, t_f, num=num_files, dtype=int)\n",
    "elif manual ==2:\n",
    "    print(\"Selecting default time steps to visualize:\")\n",
    "    print(\"0, 50000, 150000, 200000, 10000000, 20000000, 41100000\")\n",
    "    t_0 = 0\n",
    "    f_f = 41100000\n",
    "    tMD_arr = [0, 50000, 200000, 10000000, 20000000, 41100000]\n",
    "\n",
    "os.makedirs(f\"../images/plots_fromcode\", exist_ok=True)\n",
    "os.makedirs(f\"../images/videos_fromcode\", exist_ok=True)"
   ]
  },
  {
   "cell_type": "code",
   "execution_count": 32,
   "id": "b42ff263-1cc2-49c6-907e-6738edac7df3",
   "metadata": {},
   "outputs": [
    {
     "name": "stdout",
     "output_type": "stream",
     "text": [
      "Loading data from final time: ../MD_Data/confdumpearlyMD0.data\n",
      "Loading data from init time: ../MD_Data/confdumpearlyMD0.data\n",
      "in unwrapped coordinates!\n",
      "Loading data from final time: ../MD_Data/confdumpearlyMD0.data\n",
      "Loading data from init time: ../MD_Data/confdumpearlyMD0.data\n",
      "in wrapped coordinates!\n",
      "-----------------------------------------\n",
      "Loading data from final time: ../MD_Data/confdumpearlyMD50000.data\n",
      "Loading data from init time: ../MD_Data/confdumpearlyMD0.data\n",
      "in unwrapped coordinates!\n",
      "Loading data from final time: ../MD_Data/confdumpearlyMD50000.data\n",
      "Loading data from init time: ../MD_Data/confdumpearlyMD0.data\n",
      "in wrapped coordinates!\n",
      "-----------------------------------------\n",
      "Loading data from final time: ../MD_Data/confdumpearlyMD200000.data\n",
      "Loading data from init time: ../MD_Data/confdumpearlyMD0.data\n",
      "in unwrapped coordinates!\n",
      "Loading data from final time: ../MD_Data/confdumpearlyMD200000.data\n",
      "Loading data from init time: ../MD_Data/confdumpearlyMD0.data\n",
      "in wrapped coordinates!\n",
      "-----------------------------------------\n",
      "Loading data from final time: ../MD_Data/confdumpalleqMD10000000.data\n",
      "Loading data from init time: ../MD_Data/confdumpearlyMD0.data\n",
      "in unwrapped coordinates!\n",
      "Loading data from final time: ../MD_Data/confdumpalleqMD10000000.data\n",
      "Loading data from init time: ../MD_Data/confdumpearlyMD0.data\n",
      "in wrapped coordinates!\n",
      "-----------------------------------------\n",
      "Loading data from final time: ../MD_Data/confdumpalleqMD20000000.data\n",
      "Loading data from init time: ../MD_Data/confdumpearlyMD0.data\n",
      "in unwrapped coordinates!\n",
      "Loading data from final time: ../MD_Data/confdumpalleqMD20000000.data\n",
      "Loading data from init time: ../MD_Data/confdumpearlyMD0.data\n",
      "in wrapped coordinates!\n",
      "-----------------------------------------\n",
      "Loading data from final time: ../MD_Data/confdumpallinfMD41100000.data\n",
      "Loading data from init time: ../MD_Data/confdumpearlyMD0.data\n",
      "in unwrapped coordinates!\n",
      "Loading data from final time: ../MD_Data/confdumpallinfMD41100000.data\n",
      "Loading data from init time: ../MD_Data/confdumpearlyMD0.data\n",
      "in wrapped coordinates!\n",
      "-----------------------------------------\n"
     ]
    }
   ],
   "source": [
    "data_directory = \"../MD_Data/\"\n",
    "for t in tMD_arr:\n",
    "    header, idarrayall, typearrayall, dxarrayall_unwrapped, dyarrayall_unwrapped, vxarrayall_unwrapped, vyarrayall_unwrapped, \\\n",
    "        xarraymid_unwrapped, yarraymid_unwrapped, xarraywall_unwrapped, yarraywall_unwrapped, dxarraymid_unwrapped, dyarraymid_unwrapped, \\\n",
    "        typearraywall, typearraymid, Nmid, Nwall, Lx, Ly = data_func(t, t_0, folder = data_directory, unwrapped_coords=True)\n",
    "    header, idarrayall, typearrayall, dxarrayall_wrapped, dyarrayall_wrapped, vxarrayall_wrapped, vyarrayall_wrapped, \\\n",
    "        xarraymid_wrapped, yarraymid_wrapped, xarraywall_wrapped, yarraywall_wrapped, dxarraymid_wrapped, dyarraymid_wrapped, \\\n",
    "        typearraywall, typearraymid, Nmid, Nwall, Lx, Ly = data_func(t, t_0, folder = data_directory, unwrapped_coords=False)\n",
    "    print(\"-----------------------------------------\")\n",
    "\n",
    "    plot_displacement_histograms(dxarraymid_unwrapped, dyarraymid_unwrapped, typearraymid, str(t), str(t_0))\n",
    "    \n",
    "    displacement_heatmap(xarraymid_unwrapped, yarraymid_unwrapped, xarraywall_unwrapped, yarraywall_unwrapped,\n",
    "                         dxarraymid_unwrapped, dyarraymid_unwrapped, xarraymid_wrapped, yarraymid_wrapped, \n",
    "                         xarraywall_wrapped, yarraywall_wrapped, dxarraymid_wrapped, dyarraymid_wrapped, \n",
    "                         typearraywall, typearraymid, str(t), str(t_0), Nmid, Nwall, Lx, Ly)"
   ]
  },
  {
   "cell_type": "markdown",
   "id": "1e36aee8-c1a6-4a8f-bf8e-e90206f23569",
   "metadata": {},
   "source": [
    "Finally to facilitate a nice analysis of the time-dependence of our system's displacements, we can make videos!"
   ]
  },
  {
   "cell_type": "code",
   "execution_count": 33,
   "id": "48c14767-1327-4b88-95c6-366e0070e9cb",
   "metadata": {},
   "outputs": [],
   "source": [
    "def movie_from_plots(plot_prefix, hist=False, heatmap=False, folder_path = '../images/'):\n",
    "    if hist:\n",
    "        pattern_hist = rf'disp_hist_{plot_prefix}_(\\d+)\\.png'\n",
    "        img_path = os.path.join(folder_path, 'plots_fromcode')\n",
    "        files_hist = [f for f in os.listdir(img_path) if re.match(pattern_hist, f)]\n",
    "        files_hist_sorted = sorted(files_hist, key=lambda f: int(re.search(pattern_hist, f).group(1)))\n",
    "        if files_hist_sorted:\n",
    "            first_img = cv2.imread(os.path.join(img_path, files_hist_sorted[0]))\n",
    "            height, width, layers = first_img.shape\n",
    "            save_path = os.path.join(folder_path, 'videos_fromcode', f'hist_{plot_prefix}_video.mp4')\n",
    "            out = cv2.VideoWriter(save_path, cv2.VideoWriter_fourcc(*'mp4v'), 0.5, (width, height))\n",
    "            for filename in files_hist_sorted:\n",
    "                img = cv2.imread(os.path.join(img_path, filename))\n",
    "                out.write(img)\n",
    "            out.release()\n",
    "            print(f\"Saved video: {save_path}\")\n",
    "        else:\n",
    "            print(f\"No histogram files found for prefix {plot_prefix}\")\n",
    "    if heatmap:\n",
    "        pattern_heatmap = rf'disp_MD_(\\d+)_{plot_prefix}\\.png'\n",
    "        img_path = os.path.join(folder_path, 'plots_fromcode')\n",
    "        files_heatmap = [f for f in os.listdir(img_path) if re.match(pattern_heatmap, f)]\n",
    "        files_heatmap_sorted = sorted(files_heatmap, key=lambda f: int(re.search(pattern_heatmap, f).group(1)))\n",
    "        if files_heatmap_sorted:\n",
    "            first_img = cv2.imread(os.path.join(img_path, files_heatmap_sorted[0]))\n",
    "            height, width, layers = first_img.shape\n",
    "            save_path = os.path.join(folder_path, 'videos_fromcode', f'heatmap_{plot_prefix}_video.mp4')\n",
    "            out = cv2.VideoWriter(save_path, cv2.VideoWriter_fourcc(*'mp4v'), 0.5, (width, height))\n",
    "            for filename in files_heatmap_sorted:\n",
    "                img = cv2.imread(os.path.join(img_path, filename))\n",
    "                out.write(img)\n",
    "            out.release()\n",
    "            print(f\"Saved video: {save_path}\")\n",
    "        else:\n",
    "            print(f\"No heatmap files found for prefix {plot_prefix}\")"
   ]
  },
  {
   "cell_type": "code",
   "execution_count": 34,
   "id": "96ccd197-421c-4e4c-b37e-ebffbfb86a0c",
   "metadata": {},
   "outputs": [
    {
     "name": "stdout",
     "output_type": "stream",
     "text": [
      "Saved video: ../images/videos_fromcode/hist_A_video.mp4\n",
      "Saved video: ../images/videos_fromcode/hist_B_video.mp4\n",
      "Saved video: ../images/videos_fromcode/hist_ALL_video.mp4\n",
      "Saved video: ../images/videos_fromcode/heatmap_X_video.mp4\n",
      "Saved video: ../images/videos_fromcode/heatmap_Y_video.mp4\n",
      "Saved video: ../images/videos_fromcode/heatmap_NET_video.mp4\n"
     ]
    }
   ],
   "source": [
    "hist_strings = ['A', 'B', 'ALL']\n",
    "heatmap_strings = ['X', 'Y', 'NET']\n",
    "\n",
    "for hist in hist_strings:\n",
    "    movie_from_plots(hist, hist=True)\n",
    "for heatmap in heatmap_strings:\n",
    "    movie_from_plots(heatmap, heatmap=True)"
   ]
  },
  {
   "cell_type": "markdown",
   "id": "0d7fc6ce-9dcb-453e-962b-26eb0e2f0829",
   "metadata": {},
   "source": [
    "Navigate to $\\texttt{heatmap\\_X\\_video.mp4}$ and enjoy the video!\n",
    "\n",
    "You'll notice the displacement information percolate through the system, and at very long time steps, we see some weird behavior.\n",
    "\n",
    "We are unsure if this behavior is warranted or due to oddities of the LAMMPS dump file we're using. We expect affine displacement at long time steps averaged across many simulation runs, so perhaps this behavior is warranted for a single simulation run."
   ]
  },
  {
   "cell_type": "markdown",
   "id": "59d42bde-59c4-4da6-91d3-0286b71fd3cf",
   "metadata": {},
   "source": [
    "### Changing the pre-processor"
   ]
  },
  {
   "cell_type": "markdown",
   "id": "e26bded0-52ec-4f45-bc5d-debbc15b57d4",
   "metadata": {},
   "source": [
    "We'd now like our pre-processor to pass the displacement data to the GNN rather than the number of neighbors. This really only amounts to getting the $\\texttt{dxarrayall}$ array from above for the relevant time interval and using it in place of the number of neighbors per particle in our pre-processor code.\n",
    "\n",
    "So, rather than burden you with that same data processing code to get the x displacement array, I'll import the function we need:"
   ]
  },
  {
   "cell_type": "code",
   "execution_count": 38,
   "id": "7f4c5373-5e4e-4598-92bb-cdc795dce199",
   "metadata": {},
   "outputs": [],
   "source": [
    "from pre_processors.Pre_processing_displacement_Rowan import process_lammps_dump\n",
    "from customDataset import CustDataset"
   ]
  },
  {
   "cell_type": "code",
   "execution_count": 39,
   "id": "2fb2fcf1-accd-456f-9f16-8a72c488d994",
   "metadata": {},
   "outputs": [
    {
     "name": "stdout",
     "output_type": "stream",
     "text": [
      "Output written to Snapshot_1.graphdata\n"
     ]
    }
   ],
   "source": [
    "# now let's call it to create our Snapshot file\n",
    "# let's use MD 0 as the initial time, and MD 50 000 as our final time:\n",
    "process_lammps_dump(\"../MD_Data/confdumpearlyMD0.data\", \"../MD_Data/wallpartidtype\", \"../MD_Data/confdumpearlyMD0.data\", \"../MD_Data/confdumpearlyMD50000.data\", cutoff_distance=5.0, train_fraction=0.9)"
   ]
  },
  {
   "cell_type": "markdown",
   "id": "0df75fa9-9ed0-4628-b2ed-e21635299a0b",
   "metadata": {},
   "source": [
    "Note: this overwrites the Snapshot file we created for the neighbors task above!"
   ]
  }
 ],
 "metadata": {
  "kernelspec": {
   "display_name": "Python [conda env:base] *",
   "language": "python",
   "name": "conda-base-py"
  },
  "language_info": {
   "codemirror_mode": {
    "name": "ipython",
    "version": 3
   },
   "file_extension": ".py",
   "mimetype": "text/x-python",
   "name": "python",
   "nbconvert_exporter": "python",
   "pygments_lexer": "ipython3",
   "version": "3.12.2"
  }
 },
 "nbformat": 4,
 "nbformat_minor": 5
}
